{
 "cells": [
  {
   "cell_type": "code",
   "execution_count": 1,
   "metadata": {},
   "outputs": [],
   "source": [
    "# Import the libraries we'll use below.\n",
    "import os \n",
    "import numpy as np\n",
    "from matplotlib import pyplot as plt\n",
    "import pandas as pd\n",
    "import seaborn as sns  # for nicer plots\n",
    "sns.set(style=\"darkgrid\")  # default style\n",
    "\n",
    "import tensorflow as tf\n",
    "from tensorflow import keras\n",
    "from keras import metrics\n",
    "from tensorflow.keras.models import Sequential\n",
    "from tensorflow.keras.layers import Dense\n",
    "\n",
    "import warnings\n",
    "warnings.filterwarnings('ignore') "
   ]
  },
  {
   "cell_type": "code",
   "execution_count": 2,
   "metadata": {},
   "outputs": [],
   "source": [
    "# Import necessary librairies\n",
    "import gc \n",
    "import numpy as np # linear algebra\n",
    "from numpy import hstack\n",
    "from numpy import array\n",
    "import pandas as pd # data processing, CSV file I/O (e.g. pd.read_csv)\n",
    "import matplotlib.pyplot as plt  # Matlab-style plotting\n",
    "import seaborn as sns\n",
    "color = sns.color_palette()\n",
    "sns.set_style('darkgrid')\n",
    "\n",
    "from scipy import stats\n",
    "from scipy.stats import norm, skew #for some statistics"
   ]
  },
  {
   "cell_type": "code",
   "execution_count": 3,
   "metadata": {},
   "outputs": [],
   "source": [
    "import importlib\n",
    "import utilities\n",
    "importlib.reload(utilities)\n",
    "from utilities import *"
   ]
  },
  {
   "cell_type": "markdown",
   "metadata": {},
   "source": [
    "# Current plan\n",
    "1. load the logerror targets\n",
    "    - remove outliers such that the distribution is guassianish\n",
    "2. load in the housing data\n",
    "    - "
   ]
  },
  {
   "cell_type": "code",
   "execution_count": 4,
   "metadata": {},
   "outputs": [
    {
     "name": "stdout",
     "output_type": "stream",
     "text": [
      "<class 'pandas.core.frame.DataFrame'>\n",
      "RangeIndex: 167888 entries, 0 to 167887\n",
      "Data columns (total 60 columns):\n",
      " #   Column                        Non-Null Count   Dtype  \n",
      "---  ------                        --------------   -----  \n",
      " 0   parcelid                      167888 non-null  int64  \n",
      " 1   logerror                      167888 non-null  float64\n",
      " 2   transactiondate               167888 non-null  object \n",
      " 3   airconditioningtypeid         53788 non-null   float64\n",
      " 4   architecturalstyletypeid      468 non-null     float64\n",
      " 5   basementsqft                  93 non-null      float64\n",
      " 6   bathroomcnt                   167854 non-null  float64\n",
      " 7   bedroomcnt                    167854 non-null  float64\n",
      " 8   buildingclasstypeid           31 non-null      float64\n",
      " 9   buildingqualitytypeid         107173 non-null  float64\n",
      " 10  calculatedbathnbr             166056 non-null  float64\n",
      " 11  decktypeid                    1272 non-null    float64\n",
      " 12  finishedfloor1squarefeet      12893 non-null   float64\n",
      " 13  calculatedfinishedsquarefeet  166992 non-null  float64\n",
      " 14  finishedsquarefeet12          159519 non-null  float64\n",
      " 15  finishedsquarefeet13          75 non-null      float64\n",
      " 16  finishedsquarefeet15          6591 non-null    float64\n",
      " 17  finishedsquarefeet50          12893 non-null   float64\n",
      " 18  finishedsquarefeet6           807 non-null     float64\n",
      " 19  fips                          167854 non-null  float64\n",
      " 20  fireplacecnt                  17896 non-null   float64\n",
      " 21  fullbathcnt                   166056 non-null  float64\n",
      " 22  garagecarcnt                  55457 non-null   float64\n",
      " 23  garagetotalsqft               55457 non-null   float64\n",
      " 24  hashottuborspa                3904 non-null    object \n",
      " 25  heatingorsystemtypeid         105651 non-null  float64\n",
      " 26  latitude                      167854 non-null  float64\n",
      " 27  longitude                     167854 non-null  float64\n",
      " 28  lotsizesquarefeet             149446 non-null  float64\n",
      " 29  poolcnt                       34075 non-null   float64\n",
      " 30  poolsizesum                   1838 non-null    float64\n",
      " 31  pooltypeid10                  1626 non-null    float64\n",
      " 32  pooltypeid2                   2278 non-null    float64\n",
      " 33  pooltypeid7                   31776 non-null   float64\n",
      " 34  propertycountylandusecode     167853 non-null  object \n",
      " 35  propertylandusetypeid         167854 non-null  float64\n",
      " 36  propertyzoningdesc            108789 non-null  object \n",
      " 37  rawcensustractandblock        167854 non-null  float64\n",
      " 38  regionidcity                  164579 non-null  float64\n",
      " 39  regionidcounty                167854 non-null  float64\n",
      " 40  regionidneighborhood          66986 non-null   float64\n",
      " 41  regionidzip                   167769 non-null  float64\n",
      " 42  roomcnt                       167854 non-null  float64\n",
      " 43  storytypeid                   93 non-null      float64\n",
      " 44  threequarterbathnbr           22115 non-null   float64\n",
      " 45  typeconstructiontypeid        522 non-null     float64\n",
      " 46  unitcnt                       109056 non-null  float64\n",
      " 47  yardbuildingsqft17            5039 non-null    float64\n",
      " 48  yardbuildingsqft26            165 non-null     float64\n",
      " 49  yearbuilt                     166828 non-null  float64\n",
      " 50  numberofstories               38169 non-null   float64\n",
      " 51  fireplaceflag                 394 non-null     object \n",
      " 52  structuretaxvaluedollarcnt    167359 non-null  float64\n",
      " 53  taxvaluedollarcnt             167852 non-null  float64\n",
      " 54  assessmentyear                167854 non-null  float64\n",
      " 55  landtaxvaluedollarcnt         167851 non-null  float64\n",
      " 56  taxamount                     167843 non-null  float64\n",
      " 57  taxdelinquencyflag            4683 non-null    object \n",
      " 58  taxdelinquencyyear            4683 non-null    float64\n",
      " 59  censustractandblock           167002 non-null  float64\n",
      "dtypes: float64(53), int64(1), object(6)\n",
      "memory usage: 76.9+ MB\n"
     ]
    }
   ],
   "source": [
    "ZD = ZillowData()\n",
    "data_with_logerr = ZD.get_data()\n",
    "data_with_logerr.info()"
   ]
  },
  {
   "cell_type": "markdown",
   "metadata": {},
   "source": [
    "Are there any duplicate rows in the data?"
   ]
  },
  {
   "cell_type": "code",
   "execution_count": null,
   "metadata": {},
   "outputs": [
    {
     "name": "stdout",
     "output_type": "stream",
     "text": [
      "There are 0 duplicate IDs and transaction dates for 167888 total entries\n"
     ]
    }
   ],
   "source": [
    "idsUnique = len(housing[['parcelid', 'transactiondate']].value_counts())\n",
    "idsTotal = housing.shape[0]\n",
    "idsDupli = idsTotal - idsUnique\n",
    "print(f\"There are {housing.shape[0] - idsUnique} duplicate IDs and transaction dates for {housing.shape[0]} total entries\")"
   ]
  },
  {
   "cell_type": "markdown",
   "metadata": {},
   "source": [
    "### logerror labels"
   ]
  },
  {
   "cell_type": "code",
   "execution_count": null,
   "metadata": {},
   "outputs": [
    {
     "data": {
      "text/plain": [
       "<Axes: xlabel='logerror', ylabel='Count'>"
      ]
     },
     "execution_count": 9,
     "metadata": {},
     "output_type": "execute_result"
    },
    {
     "data": {
      "image/png": "[encoded data removed]",
      "text/plain": [
       "<Figure size 640x480 with 1 Axes>"
      ]
     },
     "metadata": {},
     "output_type": "display_data"
    }
   ],
   "source": [
    "sns.histplot(data=housing.logerror, kde=True)"
   ]
  },
  {
   "cell_type": "code",
   "execution_count": null,
   "metadata": {},
   "outputs": [
    {
     "data": {
      "image/png": "[encoded data removed]",
      "text/plain": [
       "<Figure size 640x480 with 1 Axes>"
      ]
     },
     "metadata": {},
     "output_type": "display_data"
    }
   ],
   "source": [
    "#QQ-plot\n",
    "fig = plt.figure()\n",
    "res = stats.probplot(housing.logerror, plot=plt)\n",
    "plt.show()"
   ]
  },
  {
   "cell_type": "markdown",
   "metadata": {},
   "source": [
    "# drop outliers"
   ]
  },
  {
   "cell_type": "code",
   "execution_count": null,
   "metadata": {},
   "outputs": [
    {
     "name": "stdout",
     "output_type": "stream",
     "text": [
      "Highest allowed 0.42817114871087447\n",
      "Lowest allowed -0.4003585363683907\n"
     ]
    }
   ],
   "source": [
    "logerror_mean = housing.logerror.mean()\n",
    "logerror_std = housing.logerror.std()\n",
    "highest_thres = logerror_mean + 2.5  * logerror_std\n",
    "lowest_thres = logerror_mean - 2.5 * logerror_std\n",
    "print(\"Highest allowed\",highest_thres)\n",
    "print(\"Lowest allowed\", lowest_thres)"
   ]
  },
  {
   "cell_type": "code",
   "execution_count": null,
   "metadata": {},
   "outputs": [],
   "source": [
    "# Only the training set outliers will be dropped (not validation or testing set to ensure model performs well on outliers too)\n",
    "y = y[y > lowest_thres]\n",
    "y = y[y < highest_thres]\n",
    "\n",
    "# Update original Housing dataframe \n",
    "housing = housing[housing.logerror > lowest_thres]\n",
    "housing = housing[housing.logerror < highest_thres]"
   ]
  },
  {
   "cell_type": "code",
   "execution_count": null,
   "metadata": {},
   "outputs": [],
   "source": [
    "# Drop rows containing either 75% or more NaN Values\n",
    "percent = 75.0 \n",
    "min_count =  int(((100-percent)/100)*housing.shape[1] + 1)\n",
    "housing = housing.dropna(axis=0, thresh=min_count)\n",
    "housing.shape"
   ]
  },
  {
   "cell_type": "code",
   "execution_count": null,
   "metadata": {},
   "outputs": [],
   "source": [
    "y.hist(bins=100, figsize=(8,5))\n",
    "plt.show()"
   ]
  },
  {
   "cell_type": "code",
   "execution_count": null,
   "metadata": {},
   "outputs": [],
   "source": [
    "#Check the new distribution \n",
    "sns.distplot(y , fit=norm)\n",
    "\n",
    "# Get the fitted parameters used by the function\n",
    "(mu, sigma) = norm.fit(y)\n",
    "print( '\\n mu = {:.2f} and sigma = {:.2f}\\n'.format(mu, sigma))\n",
    "\n",
    "#Now plot the distribution\n",
    "plt.legend(['Normal dist. ($\\mu=$ {:.2f} and $\\sigma=$ {:.2f} )'.format(mu, sigma)],\n",
    "            loc='best')\n",
    "plt.ylabel('Frequency')\n",
    "plt.title('LogError distribution')\n",
    "\n",
    "#Get also the QQ-plot\n",
    "fig = plt.figure()\n",
    "res = stats.probplot(y, plot=plt)\n",
    "plt.show()"
   ]
  },
  {
   "cell_type": "code",
   "execution_count": null,
   "metadata": {},
   "outputs": [],
   "source": [
    "from sklearn.model_selection import train_test_split \n",
    "from zlib import crc32\n",
    "\n",
    "def test_set_check(identifier, test_ratio):\n",
    "    return crc32(np.int64(identifier)) & 0xffffffff < test_ratio * 2**32\n",
    "\n",
    "def split_train_test_by_id(data, test_ratio, id_column):\n",
    "    ids = data[id_column]\n",
    "    in_test_set = ids.apply(lambda id_: test_set_check(id_, test_ratio))\n",
    "    \n",
    "    train_set = data.loc[~in_test_set]\n",
    "    test_set = data.loc[in_test_set]\n",
    "    \n",
    "    X_train = train_set.drop(\"logerror\", axis=1)\n",
    "    y_train = train_set[\"logerror\"].copy()\n",
    "    X_test = test_set.drop(\"logerror\", axis=1)\n",
    "    y_test = test_set[\"logerror\"].copy()\n",
    "    return X_train, X_test, y_train, y_test\n",
    "\n",
    "X_other, X_test, y_other, y_test = split_train_test_by_id(housing, 0.1, \"parcelid\")\n",
    "print(f\"Other Dataset Shape: {X_other.shape}; Test Dataset Shape: {X_test.shape}\")"
   ]
  },
  {
   "cell_type": "code",
   "execution_count": null,
   "metadata": {},
   "outputs": [],
   "source": [
    "# Split X_other into training and validation sets\n",
    "X_train, X_val, y_train, y_val = train_test_split(X_other, y_other, train_size=0.9, random_state=42)\n",
    "print(f\"Training Dataset Shape: {X_train.shape}\")    # 81% of instances are in training \n",
    "print(f\"Test Dataset Shape: {X_test.shape}\")         # 10% of instances are in test \n",
    "print(f\"Validation Dataset Shape: {X_val.shape}\")    # 9% of instances are in validation"
   ]
  },
  {
   "cell_type": "markdown",
   "metadata": {},
   "source": [
    "# Data preprocessing"
   ]
  },
  {
   "cell_type": "code",
   "execution_count": null,
   "metadata": {},
   "outputs": [],
   "source": [
    "feature_na_ratio = (X_train.isnull().sum() / len(X_train)) * 100\n",
    "feature_na_ratio = feature_na_ratio.drop(feature_na_ratio[feature_na_ratio == 0].index).sort_values(ascending=False)\n",
    "feature_na_ratio_df = pd.DataFrame({'Missing Ratio' : feature_na_ratio})\n",
    "feature_na_ratio_df"
   ]
  },
  {
   "cell_type": "code",
   "execution_count": null,
   "metadata": {},
   "outputs": [],
   "source": [
    "feature_na_ratio_df[feature_na_ratio_df['Missing Ratio'] < 15]"
   ]
  },
  {
   "cell_type": "code",
   "execution_count": null,
   "metadata": {},
   "outputs": [],
   "source": [
    "print (\"Features with one unique value!!\")\n",
    "exclude_unique = []\n",
    "for c in X_train.columns:\n",
    "    num_uniques = len(X_train[c].unique())\n",
    "    if X_train[c].isnull().sum() != 0:\n",
    "        num_uniques -= 1\n",
    "    if num_uniques == 1:\n",
    "        exclude_unique.append(c)\n",
    "print(exclude_unique)"
   ]
  },
  {
   "cell_type": "markdown",
   "metadata": {},
   "source": [
    "### Drop features\n",
    "- `finishedsquarefeet13`: Data description says 'Perimeter Living Area'. Over 99% of the dataset is missing values.\n",
    "- `finishedsquarefeet15`: Data description says 'Total area'. Over 96% of the dataset is missing values.\n",
    "- `finishedfloor1squarefeet`: Over 92% of the dataset is missing values.\n",
    "- `finishedsquarefeet50`: Over 92% of the dataset is missing values.\n",
    "- `storytypeid`: Data description states 35 possible values for the Story Type. Over 99% of the dataset is missing values.\n",
    "- `buildingclasstypeid`: With over 99.8% of the dataset missing, imputing won't contribute any new information.\n",
    "- `architecturalstyletypeid`: Data description states 27 possible values. Over 99% of the dataset is missing values.\n",
    "- `typeconstructiontypeid`: Data description states 18 possible values. Over 99% of the dataset is missing values.\n",
    "- `finishedsquarefeet6`: Data description states 'Base unfinished and finished area'. However, with over 99% of data missing, feature is dropped.\n",
    "- `numberofstories`: With over 77% of the missing values and no one value dominating the variable distribution, it is impractical to impute and introduce incorrect information.\n",
    "- `rawcensustractandblock`, `censustractandblock`: With almost 58k unique values, these features are being dropped until further research can be done into incorporating information from them in the model algorithm.\n",
    "- `assessmentyear`: Dropping as the variable has only one unique value in the dataset.\n",
    "- `parcelid`, `transactiondate`: This variable is not available when trying to predict target variable logerror\n",
    "`basementsqft`, `yardbuildingsqft26`: Dropping due to over 96% of data missing."
   ]
  },
  {
   "cell_type": "markdown",
   "metadata": {},
   "source": [
    "### Duplciate features\n",
    "- `pooltypeid10`, `hashottuborspa`: Duplicate information is present in `pooltypeid2` feature.\n",
    "- `pooltypeid7`: Data description states 'Pool without Hot Tub', duplicate information is present in `pooltypeid2` feature which is boolean for 'Pool with Spa/Hot Tub'\n",
    "- `fireplaceflag`: Duplicate information is present in `fireplacecnt` feature with `fireplaceflag` having a higher missing ratio.\n",
    "- `threequarterbathnbr`, `calculatedbathnbr`, `fullbathcnt`: Duplicate information is present in bathroomcnt which has a lower missing ratio\n",
    "- `finishedsquarefeet12`: Duplicate information in `calculatedfinishedsquarefeet`.\n",
    "- `taxvaluedollarcnt`: Duplicate information from the sum of `structuretaxvaluedollarcnt` and `landtaxvaluedollarcnt`\n",
    "- `roomcnt`: Duplicate information from `bedroomcnt` and `roomcnt` shows inconsistent data with majority of properties having 0 rooms in the principal residence\n",
    "- `propertyzoningdesc`, `propertycountylandusecode`: `propertylandusetypeid` already provides similar information. In addition, this variable has over 2300 unique values - drastically increasing dataset cardinality.\n",
    "- `regionidneighborhood`, `regionidzip`, `regionidcity`: With over 60% of the dataset missing values and 500+ unique values, there are better region based features such as `regionidcounty`, `latitude`, `longitude` to obtain this information\n",
    "- `taxdelinquencyyear`: Given the high proportion of missing data (over 97%) and `taxdelinquencyflag` providing similar information, the information gain from years is low."
   ]
  },
  {
   "cell_type": "code",
   "execution_count": null,
   "metadata": {},
   "outputs": [],
   "source": [
    "cols_to_drop = [\n",
    "    'parcelid',\n",
    "    'transactiondate', #\n",
    "    'finishedsquarefeet13',\n",
    "    'finishedsquarefeet15',\n",
    "    'finishedfloor1squarefeet',\n",
    "    'finishedsquarefeet50',\n",
    "    'storytypeid',\n",
    "    'buildingclasstypeid',\n",
    "    'architecturalstyletypeid',\n",
    "    'typeconstructiontypeid',\n",
    "    'finishedsquarefeet6',\n",
    "    'numberofstories',\n",
    "    'rawcensustractandblock',\n",
    "    'censustractandblock',\n",
    "    'assessmentyear',\n",
    "    'basementsqft',\n",
    "    'yardbuildingsqft26',\n",
    "    # duplcates\n",
    "    'pooltypeid10',\n",
    "    'hashottuborspa',\n",
    "    'pooltypeid7',\n",
    "    'fireplaceflag',\n",
    "    'threequarterbathnbr',\n",
    "    'calculatedbathnbr',\n",
    "    'fullbathcnt',\n",
    "    'finishedsquarefeet12',\n",
    "    'taxvaluedollarcnt',\n",
    "    'roomcnt',\n",
    "    'propertyzoningdesc',\n",
    "    'propertycountylandusecode',\n",
    "    'propertylandusetypeid',\n",
    "    'regionidneighborhood',\n",
    "    'regionidzip',\n",
    "    'regionidcity',\n",
    "    'taxdelinquencyyear',\n",
    "    # single value\n",
    "    # 'decktypeid',\n",
    "    # 'hashottuborspa',\n",
    "    # 'poolcnt',\n",
    "    # 'pooltypeid10',\n",
    "    # 'pooltypeid2',\n",
    "    # 'pooltypeid7',\n",
    "    # 'storytypeid',\n",
    "    # 'fireplaceflag',\n",
    "    # 'taxdelinquencyflag',\n",
    "]"
   ]
  },
  {
   "cell_type": "code",
   "execution_count": null,
   "metadata": {},
   "outputs": [],
   "source": [
    "X_train_reduced = X_train.drop(cols_to_drop, axis=1)\n",
    "X_train_reduced.info()"
   ]
  },
  {
   "cell_type": "code",
   "execution_count": null,
   "metadata": {},
   "outputs": [],
   "source": [
    "reduced_feature_na_ratio = (X_train_reduced.isnull().sum() / len(X_train_reduced)) * 100\n",
    "reduced_feature_na_ratio = reduced_feature_na_ratio.drop(reduced_feature_na_ratio[reduced_feature_na_ratio == 0].index).sort_values(ascending=False)\n",
    "reduced_feature_na_ratio_df = pd.DataFrame({'Missing Ratio' : reduced_feature_na_ratio})\n",
    "reduced_feature_na_ratio_df"
   ]
  },
  {
   "cell_type": "code",
   "execution_count": null,
   "metadata": {},
   "outputs": [],
   "source": [
    "#Correlation map to see how features are correlated with SalePrice\n",
    "corrmat = X_train_reduced.corr()\n",
    "plt.subplots(figsize=(12,9))\n",
    "sns.heatmap(corrmat, vmax=0.9, square=True)"
   ]
  },
  {
   "cell_type": "code",
   "execution_count": null,
   "metadata": {},
   "outputs": [],
   "source": [
    "X_train_reduced = X_train_reduced.drop(['taxamount'], axis=1)\n",
    "X_train_reduced.info()"
   ]
  },
  {
   "cell_type": "code",
   "execution_count": null,
   "metadata": {},
   "outputs": [],
   "source": []
  }
 ],
 "metadata": {
  "kernelspec": {
   "display_name": "tf_gpu",
   "language": "python",
   "name": "python3"
  },
  "language_info": {
   "codemirror_mode": {
    "name": "ipython",
    "version": 3
   },
   "file_extension": ".py",
   "mimetype": "text/x-python",
   "name": "python",
   "nbconvert_exporter": "python",
   "pygments_lexer": "ipython3",
   "version": "3.9.17"
  },
  "orig_nbformat": 4
 },
 "nbformat": 4,
 "nbformat_minor": 2
}
